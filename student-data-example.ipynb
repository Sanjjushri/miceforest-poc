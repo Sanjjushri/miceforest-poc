{
 "cells": [
  {
   "cell_type": "code",
   "execution_count": 40,
   "id": "b4f19ff0-420b-4be8-8f4a-96a53a6e0d1c",
   "metadata": {},
   "outputs": [],
   "source": [
    "# pip install miceforest==5.7.0 pyproject-toml==0.0.10 lightgbm==4.3.0 pandas==2.2.1 scikit-learn==1.4.1.post1\n"
   ]
  },
  {
   "cell_type": "code",
   "execution_count": 72,
   "id": "7b291050-24a4-40d0-894b-94e22ff7dc82",
   "metadata": {},
   "outputs": [],
   "source": [
    "import pandas as pd\n",
    "import miceforest as mf\n",
    "from sklearn.preprocessing import LabelEncoder\n",
    "import re\n",
    "import numpy as np"
   ]
  },
  {
   "cell_type": "markdown",
   "id": "8c94f2cb-35c1-448c-ba70-dd14727fd8bf",
   "metadata": {},
   "source": [
    "Loading Data"
   ]
  },
  {
   "cell_type": "code",
   "execution_count": 73,
   "id": "b4fbffbb-2651-413f-9ce9-f8b022827d47",
   "metadata": {},
   "outputs": [],
   "source": [
    "df = pd.read_csv(\"/Users/sanjju/projects/datasets/Students-attendance-data.csv\")"
   ]
  },
  {
   "cell_type": "markdown",
   "id": "dbde65b4-2f0a-4682-bafa-930268d0a65a",
   "metadata": {},
   "source": [
    "Data Preprocessing"
   ]
  },
  {
   "cell_type": "code",
   "execution_count": 74,
   "id": "83011e05-34df-4270-9000-c1872713fc0b",
   "metadata": {},
   "outputs": [
    {
     "name": "stdout",
     "output_type": "stream",
     "text": [
      "       School DBN        Date  Enrolled  Absent  Present  Released\n",
      "0          01M015  20180905.0     172.0    19.0    153.0       0.0\n",
      "1          01M015  20180906.0     171.0    17.0    154.0       0.0\n",
      "2          01M015  20180907.0     172.0    14.0    158.0       0.0\n",
      "3          01M015  20180912.0     173.0     7.0    166.0       0.0\n",
      "4          01M015  20180913.0     173.0     9.0    164.0       0.0\n",
      "...           ...         ...       ...     ...      ...       ...\n",
      "277148     79X695  20190620.0     230.0    46.0    136.0      48.0\n",
      "277149     79X695  20190621.0     226.0    53.0    128.0      45.0\n",
      "277150     79X695  20190624.0     226.0    42.0    130.0      54.0\n",
      "277151     79X695  20190625.0     226.0    56.0    127.0      43.0\n",
      "277152     79X695  20190626.0     216.0    27.0     68.0     121.0\n",
      "\n",
      "[277153 rows x 6 columns]\n"
     ]
    }
   ],
   "source": [
    "# Convert 'Enrolled', 'Absent', 'Present', and 'Released' columns to numeric\n",
    "df[['Enrolled', 'Absent', 'Present', 'Released']] = df[['Enrolled', 'Absent', 'Present', 'Released']].apply(pd.to_numeric, errors='coerce')\n",
    "\n",
    "# Define the probability of NaN for each column\n",
    "nan_prob = 0.05  # Adjust as needed\n",
    "\n",
    "for col in df.columns[1:]:  # Starting from the second column\n",
    "    mask = np.random.rand(len(df)) < nan_prob\n",
    "    df.loc[mask, col] = np.nan\n",
    "\n",
    "print(df)"
   ]
  },
  {
   "cell_type": "code",
   "execution_count": 75,
   "id": "c3a273c9-7a10-4efb-823b-a2c646e20220",
   "metadata": {},
   "outputs": [
    {
     "data": {
      "text/plain": [
       "School DBN        0\n",
       "Date          13852\n",
       "Enrolled      13931\n",
       "Absent        14003\n",
       "Present       13855\n",
       "Released      13852\n",
       "dtype: int64"
      ]
     },
     "execution_count": 75,
     "metadata": {},
     "output_type": "execute_result"
    }
   ],
   "source": [
    "df.isnull().sum()"
   ]
  },
  {
   "cell_type": "code",
   "execution_count": 76,
   "id": "36b521a7-381e-4862-8d98-8dbd4c052f1c",
   "metadata": {},
   "outputs": [
    {
     "data": {
      "text/plain": [
       "School DBN     object\n",
       "Date          float64\n",
       "Enrolled      float64\n",
       "Absent        float64\n",
       "Present       float64\n",
       "Released      float64\n",
       "dtype: object"
      ]
     },
     "execution_count": 76,
     "metadata": {},
     "output_type": "execute_result"
    }
   ],
   "source": [
    "df.dtypes\n"
   ]
  },
  {
   "cell_type": "markdown",
   "id": "3c06d9e3-1602-4594-906e-c275bae87934",
   "metadata": {},
   "source": [
    "MICE Imputation"
   ]
  },
  {
   "cell_type": "code",
   "execution_count": 77,
   "id": "04ca75a7-256c-42cc-b463-fb72bd9290f2",
   "metadata": {},
   "outputs": [],
   "source": [
    "# Create ImputationKernel starting from the second column\n",
    "kernel = mf.ImputationKernel(\n",
    "    df.iloc[:, 1:],  # Select columns from the second column onward\n",
    "    save_all_iterations=True,\n",
    "    random_state=1991\n",
    ")\n",
    "\n",
    "# Perform MICE imputation\n",
    "kernel.mice(2)\n",
    "\n",
    "# Retrieve the imputed dataset\n",
    "imputed_df = kernel.complete_data()\n"
   ]
  },
  {
   "cell_type": "markdown",
   "id": "e3629ef3-2629-4e46-89d2-3b0173c7b7b2",
   "metadata": {},
   "source": [
    "Combining data"
   ]
  },
  {
   "cell_type": "code",
   "execution_count": 78,
   "id": "24e724ed-86aa-44fd-b836-37d47b559148",
   "metadata": {},
   "outputs": [],
   "source": [
    "# Combine the DBN column with the imputed data\n",
    "imputed_df = pd.concat([df[['School DBN']], imputed_df], axis=1)"
   ]
  },
  {
   "cell_type": "code",
   "execution_count": 79,
   "id": "a37138f9-e68a-4f5e-837c-c57b344bc462",
   "metadata": {},
   "outputs": [
    {
     "data": {
      "text/html": [
       "<div>\n",
       "<style scoped>\n",
       "    .dataframe tbody tr th:only-of-type {\n",
       "        vertical-align: middle;\n",
       "    }\n",
       "\n",
       "    .dataframe tbody tr th {\n",
       "        vertical-align: top;\n",
       "    }\n",
       "\n",
       "    .dataframe thead th {\n",
       "        text-align: right;\n",
       "    }\n",
       "</style>\n",
       "<table border=\"1\" class=\"dataframe\">\n",
       "  <thead>\n",
       "    <tr style=\"text-align: right;\">\n",
       "      <th></th>\n",
       "      <th>School DBN</th>\n",
       "      <th>Date</th>\n",
       "      <th>Enrolled</th>\n",
       "      <th>Absent</th>\n",
       "      <th>Present</th>\n",
       "      <th>Released</th>\n",
       "    </tr>\n",
       "  </thead>\n",
       "  <tbody>\n",
       "    <tr>\n",
       "      <th>0</th>\n",
       "      <td>01M015</td>\n",
       "      <td>20180905.0</td>\n",
       "      <td>172.0</td>\n",
       "      <td>19.0</td>\n",
       "      <td>153.0</td>\n",
       "      <td>0.0</td>\n",
       "    </tr>\n",
       "    <tr>\n",
       "      <th>1</th>\n",
       "      <td>01M015</td>\n",
       "      <td>20180906.0</td>\n",
       "      <td>171.0</td>\n",
       "      <td>17.0</td>\n",
       "      <td>154.0</td>\n",
       "      <td>0.0</td>\n",
       "    </tr>\n",
       "    <tr>\n",
       "      <th>2</th>\n",
       "      <td>01M015</td>\n",
       "      <td>20180907.0</td>\n",
       "      <td>172.0</td>\n",
       "      <td>14.0</td>\n",
       "      <td>158.0</td>\n",
       "      <td>0.0</td>\n",
       "    </tr>\n",
       "    <tr>\n",
       "      <th>3</th>\n",
       "      <td>01M015</td>\n",
       "      <td>20180912.0</td>\n",
       "      <td>173.0</td>\n",
       "      <td>7.0</td>\n",
       "      <td>166.0</td>\n",
       "      <td>0.0</td>\n",
       "    </tr>\n",
       "    <tr>\n",
       "      <th>4</th>\n",
       "      <td>01M015</td>\n",
       "      <td>20180913.0</td>\n",
       "      <td>173.0</td>\n",
       "      <td>9.0</td>\n",
       "      <td>164.0</td>\n",
       "      <td>0.0</td>\n",
       "    </tr>\n",
       "    <tr>\n",
       "      <th>...</th>\n",
       "      <td>...</td>\n",
       "      <td>...</td>\n",
       "      <td>...</td>\n",
       "      <td>...</td>\n",
       "      <td>...</td>\n",
       "      <td>...</td>\n",
       "    </tr>\n",
       "    <tr>\n",
       "      <th>277148</th>\n",
       "      <td>79X695</td>\n",
       "      <td>20190620.0</td>\n",
       "      <td>230.0</td>\n",
       "      <td>46.0</td>\n",
       "      <td>136.0</td>\n",
       "      <td>48.0</td>\n",
       "    </tr>\n",
       "    <tr>\n",
       "      <th>277149</th>\n",
       "      <td>79X695</td>\n",
       "      <td>20190621.0</td>\n",
       "      <td>226.0</td>\n",
       "      <td>53.0</td>\n",
       "      <td>128.0</td>\n",
       "      <td>45.0</td>\n",
       "    </tr>\n",
       "    <tr>\n",
       "      <th>277150</th>\n",
       "      <td>79X695</td>\n",
       "      <td>20190624.0</td>\n",
       "      <td>226.0</td>\n",
       "      <td>42.0</td>\n",
       "      <td>130.0</td>\n",
       "      <td>54.0</td>\n",
       "    </tr>\n",
       "    <tr>\n",
       "      <th>277151</th>\n",
       "      <td>79X695</td>\n",
       "      <td>20190625.0</td>\n",
       "      <td>226.0</td>\n",
       "      <td>56.0</td>\n",
       "      <td>127.0</td>\n",
       "      <td>43.0</td>\n",
       "    </tr>\n",
       "    <tr>\n",
       "      <th>277152</th>\n",
       "      <td>79X695</td>\n",
       "      <td>20190626.0</td>\n",
       "      <td>216.0</td>\n",
       "      <td>27.0</td>\n",
       "      <td>68.0</td>\n",
       "      <td>121.0</td>\n",
       "    </tr>\n",
       "  </tbody>\n",
       "</table>\n",
       "<p>277153 rows × 6 columns</p>\n",
       "</div>"
      ],
      "text/plain": [
       "       School DBN        Date  Enrolled  Absent  Present  Released\n",
       "0          01M015  20180905.0     172.0    19.0    153.0       0.0\n",
       "1          01M015  20180906.0     171.0    17.0    154.0       0.0\n",
       "2          01M015  20180907.0     172.0    14.0    158.0       0.0\n",
       "3          01M015  20180912.0     173.0     7.0    166.0       0.0\n",
       "4          01M015  20180913.0     173.0     9.0    164.0       0.0\n",
       "...           ...         ...       ...     ...      ...       ...\n",
       "277148     79X695  20190620.0     230.0    46.0    136.0      48.0\n",
       "277149     79X695  20190621.0     226.0    53.0    128.0      45.0\n",
       "277150     79X695  20190624.0     226.0    42.0    130.0      54.0\n",
       "277151     79X695  20190625.0     226.0    56.0    127.0      43.0\n",
       "277152     79X695  20190626.0     216.0    27.0     68.0     121.0\n",
       "\n",
       "[277153 rows x 6 columns]"
      ]
     },
     "execution_count": 79,
     "metadata": {},
     "output_type": "execute_result"
    }
   ],
   "source": [
    "imputed_df"
   ]
  },
  {
   "cell_type": "code",
   "execution_count": 80,
   "id": "20c4a62f-e15a-443c-b45f-7bebdb7c0f10",
   "metadata": {},
   "outputs": [
    {
     "data": {
      "text/plain": [
       "School DBN    0\n",
       "Date          0\n",
       "Enrolled      0\n",
       "Absent        0\n",
       "Present       0\n",
       "Released      0\n",
       "dtype: int64"
      ]
     },
     "execution_count": 80,
     "metadata": {},
     "output_type": "execute_result"
    }
   ],
   "source": [
    "imputed_df.isnull().sum()"
   ]
  },
  {
   "cell_type": "code",
   "execution_count": null,
   "id": "411105c8-084d-417b-a705-b06f0b78f756",
   "metadata": {},
   "outputs": [],
   "source": []
  }
 ],
 "metadata": {
  "kernelspec": {
   "display_name": "Python 3 (ipykernel)",
   "language": "python",
   "name": "python3"
  },
  "language_info": {
   "codemirror_mode": {
    "name": "ipython",
    "version": 3
   },
   "file_extension": ".py",
   "mimetype": "text/x-python",
   "name": "python",
   "nbconvert_exporter": "python",
   "pygments_lexer": "ipython3",
   "version": "3.11.7"
  }
 },
 "nbformat": 4,
 "nbformat_minor": 5
}
